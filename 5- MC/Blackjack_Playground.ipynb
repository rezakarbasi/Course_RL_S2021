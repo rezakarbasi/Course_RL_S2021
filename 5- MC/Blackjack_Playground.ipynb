{
  "nbformat": 4,
  "nbformat_minor": 0,
  "metadata": {
    "kernelspec": {
      "display_name": "Python 3",
      "language": "python",
      "name": "python3"
    },
    "language_info": {
      "codemirror_mode": {
        "name": "ipython",
        "version": 3
      },
      "file_extension": ".py",
      "mimetype": "text/x-python",
      "name": "python",
      "nbconvert_exporter": "python",
      "pygments_lexer": "ipython3",
      "version": "3.6.4"
    },
    "colab": {
      "name": "Blackjack Playground.ipynb",
      "provenance": [],
      "collapsed_sections": []
    }
  },
  "cells": [
    {
      "cell_type": "code",
      "metadata": {
        "id": "tAASnieiIEO1"
      },
      "source": [
        "import gym\n",
        "import numpy as np\n",
        "import sys\n",
        "\n",
        "env=gym.make('Blackjack-v0')"
      ],
      "execution_count": 1,
      "outputs": []
    },
    {
      "cell_type": "code",
      "metadata": {
        "id": "cSITNvo_GP4E"
      },
      "source": [
        "def print_observation(observation):\n",
        "    score, dealer_score, usable_ace = observation\n",
        "    print(\"Player Score: {} (Usable Ace: {}), Dealer Score: {}\".format(\n",
        "          score, usable_ace, dealer_score))\n",
        "\n",
        "def strategy(observation):\n",
        "    score, dealer_score, usable_ace = observation\n",
        "    # Stick (action 0) if the score is > 20, hit (action 1) otherwise\n",
        "    return 0 if score >= 20 else 1\n",
        "\n",
        "for i_episode in range(20):\n",
        "    observation = env.reset()\n",
        "    print('\\n\\n\\n')\n",
        "    for t in range(100):\n",
        "        print_observation(observation)\n",
        "        action = strategy(observation)\n",
        "        print(observation , action)\n",
        "        # print(\"Taking action: {}\".format( [\"Stick\", \"Hit\"][action]))\n",
        "        observation, reward, done, _ = env.step(action)\n",
        "        print(observation, reward, done,'\\n')\n",
        "        # env.render()\n",
        "        if done:\n",
        "            print_observation(observation)\n",
        "            # print(\"Game end. Reward: {}\\n\".format(float(reward)))\n",
        "            print('done')\n",
        "            break"
      ],
      "execution_count": null,
      "outputs": []
    }
  ]
}