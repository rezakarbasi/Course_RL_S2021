{
  "nbformat": 4,
  "nbformat_minor": 0,
  "metadata": {
    "kernelspec": {
      "display_name": "Python 3",
      "language": "python",
      "name": "python3"
    },
    "language_info": {
      "codemirror_mode": {
        "name": "ipython",
        "version": 3
      },
      "file_extension": ".py",
      "mimetype": "text/x-python",
      "name": "python",
      "nbconvert_exporter": "python",
      "pygments_lexer": "ipython3",
      "version": "3.7.3"
    },
    "colab": {
      "name": "3- MDP.ipynb",
      "provenance": [],
      "collapsed_sections": []
    }
  },
  "cells": [
    {
      "cell_type": "markdown",
      "metadata": {
        "id": "Kcg3cq6SlpxQ"
      },
      "source": [
        "# Frozen Lake 4*4"
      ]
    },
    {
      "cell_type": "markdown",
      "metadata": {
        "id": "GfNTsU3elpxT"
      },
      "source": [
        "Winter is here. You and your friends were tossing around a frisbee at the park when you made a wild throw that left the frisbee out in the middle of the lake. The water is mostly frozen, but there are a few holes where the ice has melted. If you step into one of those holes, you'll fall into the freezing water. At this time, there's an international frisbee shortage, so it's absolutely imperative that you navigate across the lake and retrieve the disc. However, the ice is slippery, so you won't always move in the direction you intend.\n",
        "\n",
        "The surface is described using a grid like the following:\n",
        "\n",
        "SFFF       (S: starting point, safe)\n",
        "\n",
        "FHFH       (F: frozen surface, safe)\n",
        "\n",
        "FFFH       (H: hole, fall to your doom)\n",
        "\n",
        "HFFG       (G: goal, where the frisbee is located)\n",
        "\n",
        "\n",
        "The episode ends when you reach the goal or fall in a hole. You receive a reward of 100 if you reach the goal, -100 if you fall into the hole, and -0.1 for each step you take.\n",
        "\n",
        "\n",
        "[link](https://github.com/openai/gym/blob/master/gym/envs/toy_text/frozen_lake.py) of the document."
      ]
    },
    {
      "cell_type": "markdown",
      "metadata": {
        "id": "9fm_e_nnlpxU"
      },
      "source": [
        "## Getting Started"
      ]
    },
    {
      "cell_type": "markdown",
      "metadata": {
        "id": "2ZVGHZnclpxV"
      },
      "source": [
        "Run the following code and observe the result."
      ]
    },
    {
      "cell_type": "code",
      "metadata": {
        "colab": {
          "base_uri": "https://localhost:8080/"
        },
        "id": "uuU_5VGapL2I",
        "outputId": "d15ac9a8-ec2f-4c17-9e6e-c2efcd6ccf0a"
      },
      "source": [
        "!pip install gym"
      ],
      "execution_count": 7,
      "outputs": [
        {
          "output_type": "stream",
          "text": [
            "Requirement already satisfied: gym in /usr/local/lib/python3.7/dist-packages (0.17.3)\n",
            "Requirement already satisfied: scipy in /usr/local/lib/python3.7/dist-packages (from gym) (1.4.1)\n",
            "Requirement already satisfied: cloudpickle<1.7.0,>=1.2.0 in /usr/local/lib/python3.7/dist-packages (from gym) (1.3.0)\n",
            "Requirement already satisfied: pyglet<=1.5.0,>=1.4.0 in /usr/local/lib/python3.7/dist-packages (from gym) (1.5.0)\n",
            "Requirement already satisfied: numpy>=1.10.4 in /usr/local/lib/python3.7/dist-packages (from gym) (1.19.5)\n",
            "Requirement already satisfied: future in /usr/local/lib/python3.7/dist-packages (from pyglet<=1.5.0,>=1.4.0->gym) (0.16.0)\n"
          ],
          "name": "stdout"
        }
      ]
    },
    {
      "cell_type": "code",
      "metadata": {
        "id": "db4Z-whRlpxV",
        "colab": {
          "base_uri": "https://localhost:8080/"
        },
        "outputId": "20249f56-5caa-40aa-c536-91ecf016f1ca"
      },
      "source": [
        "import gym\n",
        " \n",
        "MAX_ITERATIONS = 10\n",
        " \n",
        "env = gym.make(\"FrozenLake-v0\")\n",
        "env.reset()\n",
        "# env.render()\n",
        "for i in range(MAX_ITERATIONS):\n",
        "    random_action = env.action_space.sample()\n",
        "    new_state, reward, done, info = env.step(random_action)\n",
        "\n",
        "    env.render()\n",
        "    \n",
        "    if done:\n",
        "        break"
      ],
      "execution_count": 8,
      "outputs": [
        {
          "output_type": "stream",
          "text": [
            "  (Down)\n",
            "SFFF\n",
            "\u001b[41mF\u001b[0mHFH\n",
            "FFFH\n",
            "HFFG\n",
            "  (Up)\n",
            "SFFF\n",
            "F\u001b[41mH\u001b[0mFH\n",
            "FFFH\n",
            "HFFG\n"
          ],
          "name": "stdout"
        }
      ]
    },
    {
      "cell_type": "markdown",
      "metadata": {
        "id": "J_Q-za2LqrcP"
      },
      "source": [
        "### Code explain"
      ]
    },
    {
      "cell_type": "markdown",
      "metadata": {
        "id": "Iaq6uF1MrZ0X"
      },
      "source": [
        "action space in frozen lake."
      ]
    },
    {
      "cell_type": "code",
      "metadata": {
        "colab": {
          "base_uri": "https://localhost:8080/"
        },
        "id": "EI8fiMtDlpxZ",
        "outputId": "5ae34a18-121b-4b43-9f3e-f96f6dd47690"
      },
      "source": [
        "print(env.action_space)"
      ],
      "execution_count": 9,
      "outputs": [
        {
          "output_type": "stream",
          "text": [
            "Discrete(4)\n"
          ],
          "name": "stdout"
        }
      ]
    },
    {
      "cell_type": "code",
      "metadata": {
        "colab": {
          "base_uri": "https://localhost:8080/"
        },
        "id": "IUhqSGEIqmTX",
        "outputId": "7f4d4383-3c6b-4b38-cee5-d89a0df427ae"
      },
      "source": [
        "random_action = env.action_space.sample()\n",
        "\n",
        "print(random_action)"
      ],
      "execution_count": 10,
      "outputs": [
        {
          "output_type": "stream",
          "text": [
            "1\n"
          ],
          "name": "stdout"
        }
      ]
    },
    {
      "cell_type": "markdown",
      "metadata": {
        "id": "VkbOHVu8sGXa"
      },
      "source": [
        "observation space in frozen lake"
      ]
    },
    {
      "cell_type": "code",
      "metadata": {
        "colab": {
          "base_uri": "https://localhost:8080/"
        },
        "id": "TGtCwbZYqat_",
        "outputId": "94730322-fb01-4b95-9ccf-a6e90b7936a5"
      },
      "source": [
        "print(env.observation_space)"
      ],
      "execution_count": 11,
      "outputs": [
        {
          "output_type": "stream",
          "text": [
            "Discrete(16)\n"
          ],
          "name": "stdout"
        }
      ]
    },
    {
      "cell_type": "code",
      "metadata": {
        "id": "cwCIbPjzsMYE",
        "colab": {
          "base_uri": "https://localhost:8080/"
        },
        "outputId": "9e32b8bf-d4de-463d-f930-733aefb1bec4"
      },
      "source": [
        "env.reset()\n",
        "\n",
        "for _ in range(10):\n",
        "  random_action = env.action_space.sample()\n",
        "  new_state, _, _, _ = env.step(random_action)\n",
        "\n",
        "  print('\\n\\n----------------------------')\n",
        "  print('action : ',random_action)\n",
        "  print('new state : ',new_state)\n",
        "\n",
        "  env.render()"
      ],
      "execution_count": 12,
      "outputs": [
        {
          "output_type": "stream",
          "text": [
            "\n",
            "\n",
            "----------------------------\n",
            "action :  2\n",
            "new state :  4\n",
            "  (Right)\n",
            "SFFF\n",
            "\u001b[41mF\u001b[0mHFH\n",
            "FFFH\n",
            "HFFG\n",
            "\n",
            "\n",
            "----------------------------\n",
            "action :  2\n",
            "new state :  5\n",
            "  (Right)\n",
            "SFFF\n",
            "F\u001b[41mH\u001b[0mFH\n",
            "FFFH\n",
            "HFFG\n",
            "\n",
            "\n",
            "----------------------------\n",
            "action :  2\n",
            "new state :  5\n",
            "  (Right)\n",
            "SFFF\n",
            "F\u001b[41mH\u001b[0mFH\n",
            "FFFH\n",
            "HFFG\n",
            "\n",
            "\n",
            "----------------------------\n",
            "action :  2\n",
            "new state :  5\n",
            "  (Right)\n",
            "SFFF\n",
            "F\u001b[41mH\u001b[0mFH\n",
            "FFFH\n",
            "HFFG\n",
            "\n",
            "\n",
            "----------------------------\n",
            "action :  1\n",
            "new state :  5\n",
            "  (Down)\n",
            "SFFF\n",
            "F\u001b[41mH\u001b[0mFH\n",
            "FFFH\n",
            "HFFG\n",
            "\n",
            "\n",
            "----------------------------\n",
            "action :  3\n",
            "new state :  5\n",
            "  (Up)\n",
            "SFFF\n",
            "F\u001b[41mH\u001b[0mFH\n",
            "FFFH\n",
            "HFFG\n",
            "\n",
            "\n",
            "----------------------------\n",
            "action :  0\n",
            "new state :  5\n",
            "  (Left)\n",
            "SFFF\n",
            "F\u001b[41mH\u001b[0mFH\n",
            "FFFH\n",
            "HFFG\n",
            "\n",
            "\n",
            "----------------------------\n",
            "action :  1\n",
            "new state :  5\n",
            "  (Down)\n",
            "SFFF\n",
            "F\u001b[41mH\u001b[0mFH\n",
            "FFFH\n",
            "HFFG\n",
            "\n",
            "\n",
            "----------------------------\n",
            "action :  1\n",
            "new state :  5\n",
            "  (Down)\n",
            "SFFF\n",
            "F\u001b[41mH\u001b[0mFH\n",
            "FFFH\n",
            "HFFG\n",
            "\n",
            "\n",
            "----------------------------\n",
            "action :  1\n",
            "new state :  5\n",
            "  (Down)\n",
            "SFFF\n",
            "F\u001b[41mH\u001b[0mFH\n",
            "FFFH\n",
            "HFFG\n"
          ],
          "name": "stdout"
        }
      ]
    },
    {
      "cell_type": "markdown",
      "metadata": {
        "id": "SZf1X2vXtoNa"
      },
      "source": [
        "now guess what's the state and action"
      ]
    },
    {
      "cell_type": "code",
      "metadata": {
        "id": "tc0I4EiMqarN",
        "colab": {
          "base_uri": "https://localhost:8080/"
        },
        "outputId": "f56b4a34-6cdd-412c-915a-fb51a413a5c7"
      },
      "source": [
        "env.reset()\n",
        "\n",
        "for i in range(15):\n",
        "  random_action = env.action_space.sample()\n",
        "  new_state, reward, done, info = env.step(random_action)\n",
        "  print('\\n\\n--------------------------')\n",
        "  print('action : {}\\nnew state : {}\\nreward : {}\\ndone : {}\\ninfo : {}'.format(random_action,new_state, reward, done, info))\n",
        "  env.render()\n",
        "\n",
        "  if done:\n",
        "    break"
      ],
      "execution_count": 13,
      "outputs": [
        {
          "output_type": "stream",
          "text": [
            "\n",
            "\n",
            "--------------------------\n",
            "action : 3\n",
            "new state : 0\n",
            "reward : 0.0\n",
            "done : False\n",
            "info : {'prob': 0.3333333333333333}\n",
            "  (Up)\n",
            "\u001b[41mS\u001b[0mFFF\n",
            "FHFH\n",
            "FFFH\n",
            "HFFG\n",
            "\n",
            "\n",
            "--------------------------\n",
            "action : 0\n",
            "new state : 0\n",
            "reward : 0.0\n",
            "done : False\n",
            "info : {'prob': 0.3333333333333333}\n",
            "  (Left)\n",
            "\u001b[41mS\u001b[0mFFF\n",
            "FHFH\n",
            "FFFH\n",
            "HFFG\n",
            "\n",
            "\n",
            "--------------------------\n",
            "action : 2\n",
            "new state : 1\n",
            "reward : 0.0\n",
            "done : False\n",
            "info : {'prob': 0.3333333333333333}\n",
            "  (Right)\n",
            "S\u001b[41mF\u001b[0mFF\n",
            "FHFH\n",
            "FFFH\n",
            "HFFG\n",
            "\n",
            "\n",
            "--------------------------\n",
            "action : 1\n",
            "new state : 5\n",
            "reward : 0.0\n",
            "done : True\n",
            "info : {'prob': 0.3333333333333333}\n",
            "  (Down)\n",
            "SFFF\n",
            "F\u001b[41mH\u001b[0mFH\n",
            "FFFH\n",
            "HFFG\n"
          ],
          "name": "stdout"
        }
      ]
    },
    {
      "cell_type": "markdown",
      "metadata": {
        "id": "zPDAuv8LzGrp"
      },
      "source": [
        "## modify reward"
      ]
    },
    {
      "cell_type": "markdown",
      "metadata": {
        "id": "4Z3z1A081pBM"
      },
      "source": [
        "set a proper reward function"
      ]
    },
    {
      "cell_type": "code",
      "metadata": {
        "id": "UZiSJKcxzKGh"
      },
      "source": [
        "holes = [5,7,11]\n",
        "goal = 15\n",
        "\n",
        "def Reward_Function(state):\n",
        "  if state in holes :\n",
        "    return -1\n",
        "  if state == goal :\n",
        "    return 1\n",
        "  return 0"
      ],
      "execution_count": 14,
      "outputs": []
    },
    {
      "cell_type": "markdown",
      "metadata": {
        "id": "fIRsUZxuyL0h"
      },
      "source": [
        "## find out values for a random policy"
      ]
    },
    {
      "cell_type": "code",
      "metadata": {
        "id": "I09UghrRqaFj"
      },
      "source": [
        "import numpy as np\n",
        "\n",
        "np.random.choice?"
      ],
      "execution_count": 15,
      "outputs": []
    },
    {
      "cell_type": "code",
      "metadata": {
        "id": "UTzKj-yIqaoz",
        "colab": {
          "base_uri": "https://localhost:8080/"
        },
        "outputId": "03dd823b-dbf3-453c-afb2-1fed2b122d1f"
      },
      "source": [
        "policy = np.random.choice(range(4),replace=True,size=16)\n",
        "print(policy.reshape(4,4),'\\n\\n\\n')\n",
        "\n",
        "env.reset()\n",
        "env.render()"
      ],
      "execution_count": 18,
      "outputs": [
        {
          "output_type": "stream",
          "text": [
            "[[3 0 3 0]\n",
            " [1 3 1 0]\n",
            " [1 0 2 1]\n",
            " [0 1 0 0]] \n",
            "\n",
            "\n",
            "\n",
            "\n",
            "\u001b[41mS\u001b[0mFFF\n",
            "FHFH\n",
            "FFFH\n",
            "HFFG\n"
          ],
          "name": "stdout"
        }
      ]
    },
    {
      "cell_type": "code",
      "metadata": {
        "id": "2oaGsEvic6mB"
      },
      "source": [
        "generate values for each state 10 min + 15 min\n",
        "\n",
        "# env.env.s = start_state\n"
      ],
      "execution_count": null,
      "outputs": []
    },
    {
      "cell_type": "markdown",
      "metadata": {
        "id": "-FIms-DDgSxI"
      },
      "source": [
        "## make the optimal policy and evaluate that"
      ]
    },
    {
      "cell_type": "code",
      "metadata": {
        "id": "Zt5QnMfbgPK1"
      },
      "source": [
        "try to make the optimal policy\n",
        "evaluate that\n",
        "\n",
        "10 min"
      ],
      "execution_count": null,
      "outputs": []
    },
    {
      "cell_type": "markdown",
      "metadata": {
        "id": "WpvXEiSJhiL4"
      },
      "source": [
        "compare two policies ??????"
      ]
    }
  ]
}