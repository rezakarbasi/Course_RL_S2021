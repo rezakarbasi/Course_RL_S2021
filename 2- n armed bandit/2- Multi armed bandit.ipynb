{
  "nbformat": 4,
  "nbformat_minor": 0,
  "metadata": {
    "colab": {
      "name": "2- Multi armed bandit.ipynb",
      "provenance": [],
      "collapsed_sections": []
    },
    "kernelspec": {
      "name": "python3",
      "display_name": "Python 3"
    },
    "language_info": {
      "name": "python"
    }
  },
  "cells": [
    {
      "cell_type": "markdown",
      "metadata": {
        "id": "t8X_dEBMPrI5"
      },
      "source": [
        "# Define the Environment"
      ]
    },
    {
      "cell_type": "code",
      "metadata": {
        "id": "0UrO70K_JuO8"
      },
      "source": [
        "import numpy as np\n",
        "\n",
        "class ENVIREMENT:\n",
        "  def __init__(self,sigma=2,actions=10):\n",
        "    self.miu=np.arange(1,1+actions)\n",
        "    self.sigma=sigma\n",
        "\n",
        "  def step(self,action):\n",
        "    return np.random.randn()*self.sigma+self.miu[action]"
      ],
      "execution_count": 1,
      "outputs": []
    },
    {
      "cell_type": "markdown",
      "metadata": {
        "id": "EXjsbCjwOxoI"
      },
      "source": [
        "## Plot the action rewards"
      ]
    },
    {
      "cell_type": "code",
      "metadata": {
        "colab": {
          "base_uri": "https://localhost:8080/",
          "height": 446
        },
        "id": "pMVXjpDdMrcB",
        "outputId": "b28f58da-ac0e-44ed-aec7-879930311976"
      },
      "source": [
        "actions = 10\n",
        "env = ENVIREMENT(actions=actions,sigma=2)\n",
        "\n",
        "trials=1000\n",
        "\n",
        "import matplotlib.pyplot as plt\n",
        "\n",
        "plt.figure()\n",
        "plt.xticks(range(actions))\n",
        "for i in range(actions):\n",
        "  res=[]\n",
        "  for j in range(trials):\n",
        "    res.append(env.step(i))\n",
        "  \n",
        "  print('average reward of action {} : {}'.format(i,sum(res)/len(res)))\n",
        "  plt.plot([i+1 for j in range(trials)],res,'.')\n",
        "\n",
        "plt.xlabel('action number')\n",
        "plt.ylabel('reward')\n",
        "plt.show()"
      ],
      "execution_count": 2,
      "outputs": [
        {
          "output_type": "stream",
          "text": [
            "average reward of action 0 : 0.9805935420320933\n",
            "average reward of action 1 : 2.03923764453964\n",
            "average reward of action 2 : 3.0131174425027685\n",
            "average reward of action 3 : 3.9986837747501847\n",
            "average reward of action 4 : 4.986220838419296\n",
            "average reward of action 5 : 6.064540024907638\n",
            "average reward of action 6 : 6.913917693527646\n",
            "average reward of action 7 : 8.148237840380263\n",
            "average reward of action 8 : 9.031321785225849\n",
            "average reward of action 9 : 10.021476883479174\n"
          ],
          "name": "stdout"
        },
        {
          "output_type": "display_data",
          "data": {
            "image/png": "[encoded data removed]",
            "text/plain": [
              "<Figure size 432x288 with 1 Axes>"
            ]
          },
          "metadata": {
            "tags": [],
            "needs_background": "light"
          }
        }
      ]
    },
    {
      "cell_type": "markdown",
      "metadata": {
        "id": "q76PcdcHPyYS"
      },
      "source": [
        "# Simple Bandit Algorithm"
      ]
    },
    {
      "cell_type": "code",
      "metadata": {
        "id": "3WbKCM-xRLGl"
      },
      "source": [
        "def Epsilon_Greedy(epsilon,Q):\n",
        "  best_action = np.argmax(Q)\n",
        "  random_action = np.random.choice(range(len(Q)))\n",
        "\n",
        "  random = np.random.rand()\n",
        "\n",
        "  if random<epsilon:\n",
        "    return random_action\n",
        "  else:\n",
        "    return best_action\n"
      ],
      "execution_count": 3,
      "outputs": []
    },
    {
      "cell_type": "code",
      "metadata": {
        "colab": {
          "base_uri": "https://localhost:8080/",
          "height": 318
        },
        "id": "_7O21or6MrZr",
        "outputId": "21f2afaf-65a1-451e-95e5-5311006f47fd"
      },
      "source": [
        "def Simple_Bandit(epsilon,steps):\n",
        "  Q=[0 for i in range(actions)]\n",
        "  N=[0 for i in range(actions)]\n",
        "\n",
        "  Rewards = []\n",
        "  Regret = [0]\n",
        "\n",
        "  for s in range(steps):\n",
        "    selected_action = Epsilon_Greedy(epsilon,Q)\n",
        "    reward = env.step(selected_action)\n",
        "\n",
        "    Rewards.append(reward)\n",
        "    \n",
        "    regret = Regret[-1] + (actions - reward)\n",
        "    Regret.append(regret)\n",
        "\n",
        "    N[selected_action] = N[selected_action]+1\n",
        "    Q[selected_action] = Q[selected_action]+(reward-Q[selected_action])/N[selected_action]\n",
        "  \n",
        "  return Regret,Rewards,N,Q\n",
        "\n",
        "\n",
        "steps = 10000\n",
        "actions = 10\n",
        "env = ENVIREMENT(actions=actions)\n",
        "epsilon = 0.1\n",
        "\n",
        "Regret,Rewards,N,Q = Simple_Bandit(epsilon,steps)\n",
        "plt.plot(Regret)\n",
        "print('Q values : ',Q)\n",
        "print('N values : ',N)\n"
      ],
      "execution_count": 4,
      "outputs": [
        {
          "output_type": "stream",
          "text": [
            "Q values :  [0.6807979906534065, 2.2724561851939686, 3.088201329645782, 4.150560735275737, 4.813717140874653, 6.012949544778422, 6.745068908606653, 8.016563773108535, 9.04425069758981, 10.016032632762597]\n",
            "N values :  [103, 108, 108, 88, 110, 118, 90, 107, 99, 9069]\n"
          ],
          "name": "stdout"
        },
        {
          "output_type": "display_data",
          "data": {
            "image/png": "[encoded data removed]",
            "text/plain": [
              "<Figure size 432x288 with 1 Axes>"
            ]
          },
          "metadata": {
            "tags": [],
            "needs_background": "light"
          }
        }
      ]
    },
    {
      "cell_type": "code",
      "metadata": {
        "colab": {
          "base_uri": "https://localhost:8080/",
          "height": 312
        },
        "id": "kJHBjD1-MrVJ",
        "outputId": "03d3e2cc-1678-4696-bd77-6e99698c0048"
      },
      "source": [
        "steps = 10000\n",
        "actions = 10\n",
        "env = ENVIREMENT(actions=actions)\n",
        "\n",
        "plt.figure(10)\n",
        "for epsilon in [0,1e-4,1e-2,1e-1,1]:\n",
        "  Regret,Rewards,N,Q = Simple_Bandit(epsilon,steps)\n",
        "  plt.plot(Regret,label='{}'.format(epsilon))\n",
        "\n",
        "plt.xlabel('steps')\n",
        "plt.ylabel('regret')\n",
        "plt.title(('regret plot for different epsilons'))\n",
        "plt.legend()\n"
      ],
      "execution_count": 9,
      "outputs": [
        {
          "output_type": "execute_result",
          "data": {
            "text/plain": [
              "<matplotlib.legend.Legend at 0x7fd4181a7050>"
            ]
          },
          "metadata": {
            "tags": []
          },
          "execution_count": 9
        },
        {
          "output_type": "display_data",
          "data": {
            "image/png": "[encoded data removed]",
            "text/plain": [
              "<Figure size 432x288 with 1 Axes>"
            ]
          },
          "metadata": {
            "tags": [],
            "needs_background": "light"
          }
        }
      ]
    },
    {
      "cell_type": "markdown",
      "metadata": {
        "id": "4PP1a3-gXYQW"
      },
      "source": [
        "# Softmax Algorithm"
      ]
    },
    {
      "cell_type": "markdown",
      "metadata": {
        "id": "jVP8oMcjXa0h"
      },
      "source": [
        "try to implement"
      ]
    },
    {
      "cell_type": "markdown",
      "metadata": {
        "id": "bzcIbqBKXbRY"
      },
      "source": [
        "# UCB1 algorithm"
      ]
    },
    {
      "cell_type": "markdown",
      "metadata": {
        "id": "-A89_jDYXeFh"
      },
      "source": [
        "try to implement"
      ]
    },
    {
      "cell_type": "code",
      "metadata": {
        "id": "W-ypERjjXpfy"
      },
      "source": [
        ""
      ],
      "execution_count": 5,
      "outputs": []
    }
  ]
}